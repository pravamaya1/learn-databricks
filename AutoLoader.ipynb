{
 "cells": [
  {
   "cell_type": "code",
   "execution_count": 0,
   "metadata": {
    "application/vnd.databricks.v1+cell": {
     "cellMetadata": {
      "byteLimit": 2048000,
      "rowLimit": 10000
     },
     "inputWidgets": {},
     "nuid": "3c761e2b-4767-461d-af41-1e5e7454fdff",
     "showTitle": false,
     "tableResultSettingsMap": {},
     "title": ""
    }
   },
   "outputs": [],
   "source": [
    "# Create autoloader input folder in volume\n",
    "dbutils.fs.mkdirs(\"/Volumes/dev/bronze/landing/autoloader_input/2010/12/01\")\n",
    "dbutils.fs.mkdirs(\"/Volumes/dev/bronze/landing/autoloader_input/2010/12/02\")\n",
    "dbutils.fs.mkdirs(\"/Volumes/dev/bronze/landing/autoloader_input/2010/12/03\")\n",
    "dbutils.fs.mkdirs(\"/Volumes/dev/bronze/landing/autoloader_input/2010/12/04\")\n",
    "dbutils.fs.mkdirs(\"/Volumes/dev/bronze/landing/autoloader_input/2010/12/05\")\n",
    "dbutils.fs.mkdirs(\"/Volumes/dev/bronze/landing/autoloader_input/2010/12/06\")\n",
    "dbutils.fs.mkdirs(\"/Volumes/dev/bronze/landing/autoloader_input/2010/12/07\")\n"
   ]
  },
  {
   "cell_type": "code",
   "execution_count": 0,
   "metadata": {
    "application/vnd.databricks.v1+cell": {
     "cellMetadata": {
      "byteLimit": 2048000,
      "rowLimit": 10000
     },
     "inputWidgets": {},
     "nuid": "975db181-a306-48bd-8b17-6e6ee9daae83",
     "showTitle": false,
     "tableResultSettingsMap": {},
     "title": ""
    }
   },
   "outputs": [],
   "source": [
    "#Create check point locations in volume\n",
    "dbutils.fs.mkdirs(\"/Volumes/dev/bronze/landing/checkpoint/autoloader\")"
   ]
  },
  {
   "cell_type": "code",
   "execution_count": 0,
   "metadata": {
    "application/vnd.databricks.v1+cell": {
     "cellMetadata": {
      "byteLimit": 2048000,
      "rowLimit": 10000
     },
     "inputWidgets": {},
     "nuid": "282f315b-4532-461d-8512-43fdf55ec677",
     "showTitle": false,
     "tableResultSettingsMap": {},
     "title": ""
    }
   },
   "outputs": [],
   "source": [
    "dbutils.fs.cp(\"/databricks-datasets/definitive-guide/data/retail-data/by-day/2010-12-01.csv\", \"/Volumes/dev/bronze/landing/autoloader_input/2010/12/01\")\n",
    "dbutils.fs.cp(\"/databricks-datasets/definitive-guide/data/retail-data/by-day/2010-12-02.csv\", \"/Volumes/dev/bronze/landing/autoloader_input/2010/12/02\")\n",
    "dbutils.fs.cp(\"/databricks-datasets/definitive-guide/data/retail-data/by-day/2010-12-03.csv\", \"/Volumes/dev/bronze/landing/autoloader_input/2010/12/03\")\n"
   ]
  },
  {
   "cell_type": "code",
   "execution_count": 0,
   "metadata": {
    "application/vnd.databricks.v1+cell": {
     "cellMetadata": {
      "byteLimit": 2048000,
      "rowLimit": 10000
     },
     "inputWidgets": {},
     "nuid": "17079163-d98b-4ae9-97c2-5354ffdf0922",
     "showTitle": false,
     "tableResultSettingsMap": {},
     "title": ""
    }
   },
   "outputs": [],
   "source": [
    "#Read Files Using Autoloader with checkpoint\n",
    "#and Schema location \"/volume/dev/bronze/landing/checkpoint/autoloader\"\n",
    "#File Detection mode\n",
    "#- Direcory listing (uses API calls to detect new files)\n",
    "#- File notification (uses notification and Queue Services - requires elevated cloud permissions for setup)\n",
    "\n",
    "df = (\n",
    "    spark\n",
    "    .readStream\n",
    "    .format(\"cloudFiles\")\n",
    "    .option(\"cloudFiles.format\", \"csv\")\n",
    "    .option(\"pathGlobfilter\", \"*.csv\")\n",
    "    .option(\"header\", \"true\")\n",
    "    .option(\"cloudfiles.schemaHints\", \"Quantity Int, UnitPrice double\")\n",
    "    .option(\"cloudFiles.schemaLocation\", \"/Volumes/dev/bronze/landing/checkpoint/autoloader/1/\")\n",
    "    .load(\"/Volumes/dev/bronze/landing/autoloader_input/*/\"))"
   ]
  },
  {
   "cell_type": "code",
   "execution_count": 0,
   "metadata": {
    "application/vnd.databricks.v1+cell": {
     "cellMetadata": {
      "byteLimit": 2048000,
      "rowLimit": 10000
     },
     "inputWidgets": {},
     "nuid": "12590c74-20e0-41b8-976c-d81567cca511",
     "showTitle": false,
     "tableResultSettingsMap": {},
     "title": ""
    }
   },
   "outputs": [],
   "source": [
    "#write data to a delta table dev.bronze.invoice_al_1\n",
    "from pyspark.sql.functions import col\n",
    "\n",
    "(\n",
    "    df\n",
    "    .withColumn(\"_file\", col(\"_metadata.file_name\"))\n",
    "    .writeStream\n",
    "    .option(\"checkpointlocation\",\"/Volumes/dev/bronze/landing/checkpoint/autoloader/1/\" )\n",
    "    .outputMode(\"append\")\n",
    "    .trigger(availableNow=True)\n",
    "    .toTable(\"dev.bronze.Invoice_al_1\")\n",
    "\n",
    ")"
   ]
  },
  {
   "cell_type": "code",
   "execution_count": 0,
   "metadata": {
    "application/vnd.databricks.v1+cell": {
     "cellMetadata": {
      "byteLimit": 2048000,
      "implicitDf": true,
      "rowLimit": 10000
     },
     "inputWidgets": {},
     "nuid": "92df6d4d-d55e-48f6-8495-73164b73b859",
     "showTitle": false,
     "tableResultSettingsMap": {},
     "title": ""
    }
   },
   "outputs": [],
   "source": [
    "%sql\n",
    "select * from dev.bronze.Invoice_al_1;\n"
   ]
  },
  {
   "cell_type": "code",
   "execution_count": 0,
   "metadata": {
    "application/vnd.databricks.v1+cell": {
     "cellMetadata": {
      "byteLimit": 2048000,
      "implicitDf": true,
      "rowLimit": 10000
     },
     "inputWidgets": {},
     "nuid": "82a5bdd4-52a4-43e0-a8c4-3d4c12163f00",
     "showTitle": false,
     "tableResultSettingsMap": {},
     "title": ""
    }
   },
   "outputs": [],
   "source": [
    "%sql\n",
    "select _file, count(1)\n",
    "from dev.bronze.Invoice_al_1\n",
    "group by _file"
   ]
  },
  {
   "cell_type": "code",
   "execution_count": 0,
   "metadata": {
    "application/vnd.databricks.v1+cell": {
     "cellMetadata": {
      "byteLimit": 2048000,
      "rowLimit": 10000
     },
     "inputWidgets": {},
     "nuid": "0e21f7af-1ce6-43ed-ae0e-423ca6d978bc",
     "showTitle": false,
     "tableResultSettingsMap": {},
     "title": ""
    }
   },
   "outputs": [],
   "source": [
    "#write data to delta table - dev.bronze.invoice_al_1\n",
    "\n",
    "from pyspark.sql.functions import col\n",
    "(\n",
    "    df\n",
    "    .withColumn(\"_file\", col(\"_metadata.file_name\"))\n",
    "    .writeStream\n",
    "    .option(\"checkpointLocation\",\"/Volumes/dev/bronze/landing/checkpoint/autoloader/1/\")\n",
    "    .option(\"mergeSchema,\"  True)       #this will provide the default option to add a new column to the schema\n",
    "    .outputMode(\"append\")\n",
    "    .trigger(availableNow=True)\n",
    "    .toTable(\"dev.bronze.Invoice_al_1\")\n",
    "    \n",
    "\n",
    ")"
   ]
  },
  {
   "cell_type": "code",
   "execution_count": 0,
   "metadata": {
    "application/vnd.databricks.v1+cell": {
     "cellMetadata": {
      "byteLimit": 2048000,
      "rowLimit": 10000
     },
     "inputWidgets": {},
     "nuid": "426a14b4-251c-4e4c-bc41-abc171e93312",
     "showTitle": false,
     "tableResultSettingsMap": {},
     "title": ""
    }
   },
   "outputs": [],
   "source": [
    "#Add another file to the directory to check the incremental processing in the cloud\n",
    "\n",
    "dbutils.fs.cp(\"/databricks-datasets/definitive-guide/data/retail-data/by-day/2010-12-05.csv\", \"/Volumes/dev/bronze/landing/autoloader_input/2010/12/05\")"
   ]
  },
  {
   "cell_type": "markdown",
   "metadata": {
    "application/vnd.databricks.v1+cell": {
     "cellMetadata": {},
     "inputWidgets": {},
     "nuid": "42b60a5e-22be-4745-995e-5d9e4b998555",
     "showTitle": false,
     "tableResultSettingsMap": {},
     "title": ""
    }
   },
   "source": [
    "##Autoloader Schema evolution work"
   ]
  },
  {
   "cell_type": "code",
   "execution_count": 0,
   "metadata": {
    "application/vnd.databricks.v1+cell": {
     "cellMetadata": {
      "byteLimit": 2048000,
      "rowLimit": 10000
     },
     "inputWidgets": {},
     "nuid": "3492bbec-409a-41a8-b572-e7935c1bfd04",
     "showTitle": false,
     "tableResultSettingsMap": {},
     "title": ""
    }
   },
   "outputs": [],
   "source": [
    "df = (\n",
    "    spark\n",
    "    .readStream\n",
    "    .format(\"cloudFiles\")\n",
    "    .option(\"cloudFiles.format\", \"csv\")\n",
    "    .option(\"pathGlobfilter\", \"*.csv\")\n",
    "    .option(\"header\", \"true\")\n",
    "    .option(\"cloudfiles.schemaHints\", \"Quantity Int, UnitPrice double\")\n",
    "    .option(\"cloudFiles.schemaLocation\", \"/Volumes/dev/bronze/landing/checkpoint/autoloader/2/\")\n",
    "    .option(\"cloudfiles.schemaEvololutionMode\", \"rescue\")  #(this will provide the default option to add a new column to the schema)\n",
    "    .load(\"/Volumes/dev/bronze/landing/autoloader_input/*/\"))"
   ]
  },
  {
   "cell_type": "code",
   "execution_count": 0,
   "metadata": {
    "application/vnd.databricks.v1+cell": {
     "cellMetadata": {
      "byteLimit": 2048000,
      "rowLimit": 10000
     },
     "inputWidgets": {},
     "nuid": "a398ece7-d49a-4ff8-9371-9e98ffd9020c",
     "showTitle": false,
     "tableResultSettingsMap": {},
     "title": ""
    }
   },
   "outputs": [],
   "source": [
    "from pyspark.sql.functions import col\n",
    "(\n",
    "    df\n",
    "    .withColumn(\"_file\", col(\"_metadata.file_name\"))\n",
    "    .writeStream\n",
    "    .option(\"checkpointLocation\",\"/Volumes/dev/bronze/landing/checkpoint/autoloader/2/\")\n",
    "    .option(\"mergeSchema\", True)       #this will provide the default option to add a new column to the schema\n",
    "    .outputMode(\"append\")\n",
    "    .trigger(availableNow=True)\n",
    "    .toTable(\"dev.bronze.Invoice_al_2\")\n",
    "    \n",
    "\n",
    ")"
   ]
  }
 ],
 "metadata": {
  "application/vnd.databricks.v1+notebook": {
   "computePreferences": null,
   "dashboards": [],
   "environmentMetadata": {
    "base_environment": "",
    "client": "2"
   },
   "language": "python",
   "notebookMetadata": {
    "mostRecentlyExecutedCommandWithImplicitDF": {
     "commandId": 7201854566157191,
     "dataframes": [
      "_sqldf"
     ]
    },
    "pythonIndentUnit": 4
   },
   "notebookName": "AutoLoader",
   "widgets": {}
  },
  "language_info": {
   "name": "python"
  }
 },
 "nbformat": 4,
 "nbformat_minor": 0
}
