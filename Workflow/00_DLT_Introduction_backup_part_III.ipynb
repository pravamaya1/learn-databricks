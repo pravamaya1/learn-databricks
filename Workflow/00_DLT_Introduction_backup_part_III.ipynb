{
 "cells": [
  {
   "cell_type": "code",
   "execution_count": 0,
   "metadata": {
    "application/vnd.databricks.v1+cell": {
     "cellMetadata": {
      "byteLimit": 2048000,
      "rowLimit": 10000
     },
     "inputWidgets": {},
     "nuid": "9ae2a7ea-e5fd-4427-b374-85f100e641c6",
     "showTitle": false,
     "tableResultSettingsMap": {},
     "title": ""
    }
   },
   "outputs": [],
   "source": [
    "# DLT works with three types of Datasets\n",
    "# 1. Streaming tables(Permanent/ temporary) - Uswd as append Data Scources, Incremental data\n",
    "#2.Materialized view - Used for transfermations, aggregation, aggregations or computations\n",
    "#3.Views - Used for intermidiate Transformations, Not stored in Target Schema\n",
    "\n",
    "import dlt"
   ]
  },
  {
   "cell_type": "code",
   "execution_count": 0,
   "metadata": {
    "application/vnd.databricks.v1+cell": {
     "cellMetadata": {},
     "inputWidgets": {},
     "nuid": "c132b1bf-c7cc-46d9-8301-d0f65c91527b",
     "showTitle": false,
     "tableResultSettingsMap": {},
     "title": ""
    }
   },
   "outputs": [],
   "source": [
    "## Add one more aggregated table\n",
    "## Change the name of the silver table from \"joined_silver\" to \"order_silver\""
   ]
  },
  {
   "cell_type": "code",
   "execution_count": 0,
   "metadata": {
    "application/vnd.databricks.v1+cell": {
     "cellMetadata": {},
     "inputWidgets": {},
     "nuid": "550efbe5-1716-4259-9adc-a435ad6eddc7",
     "showTitle": false,
     "tableResultSettingsMap": {},
     "title": ""
    }
   },
   "outputs": [],
   "source": [
    "# Create Streaming Table for Orders\n",
    "@dlt.table(\n",
    "    table_properties={\"quality\": \"bronze\"},\n",
    "    comment = \"Orders Bronze Table\"\n",
    ")\n",
    "def orders_bronze():\n",
    "    df= spark.readStream.table(\"dev.bronze.orders_raw\")\n",
    "    return df"
   ]
  },
  {
   "cell_type": "code",
   "execution_count": 0,
   "metadata": {
    "application/vnd.databricks.v1+cell": {
     "cellMetadata": {},
     "inputWidgets": {},
     "nuid": "08a1b84e-6f42-447c-9327-3c9bbd78fe67",
     "showTitle": false,
     "tableResultSettingsMap": {},
     "title": ""
    }
   },
   "outputs": [],
   "source": [
    "\n",
    "\n",
    "# Create a Streaming Table for Autoloader\n",
    "@dlt.table(\n",
    "    table_properties={\"quality\": \"bronze\"},\n",
    "    comment=\"order Autoloader Bronze Table\",\n",
    "    name=\"orders_autoloader_bronze\"\n",
    ")\n",
    "def func_autoloader():\n",
    "    df = (\n",
    "    spark\n",
    "    .readStream\n",
    "    .format(\"cloudFiles\")\n",
    "    .option(\"cloudFiles.schemaHints\", \"o_orderkey long, o_custkey long, o_orderstatus string, o_totalprice decimal(18,2), o_orderdate date, o_orderpriority string, o_clerk string, o_shippriority integer, o_comment string\")\n",
    "    .option(\"cloudFiles.schemaLocation\",\"/Volumes/dev/etl/landing/autoloader/schemas/1/\")\n",
    "    .option(\"cloudFiles.format\", \"CSV\")\n",
    "    .option(\"pathGlobfilter\", \"*.csv\")\n",
    "    .option(\"cloudFiles.schemaEvolutionMode\", \"none\")\n",
    "    .load('/Volumes/dev/etl/landing/files/')\n",
    "    )\n",
    "    return df"
   ]
  },
  {
   "cell_type": "code",
   "execution_count": 0,
   "metadata": {
    "application/vnd.databricks.v1+cell": {
     "cellMetadata": {},
     "inputWidgets": {},
     "nuid": "55ebe4c6-4f10-424d-a8ff-87632d3abd42",
     "showTitle": false,
     "tableResultSettingsMap": {},
     "title": ""
    }
   },
   "outputs": [],
   "source": [
    "#Union of Two streaming tables order_bronze and orders_autoloader_bronze\n",
    "\n",
    "dlt.create_streaming_table(\"orders_union_bronze\")\n",
    "\n",
    "#AppendFlow\n",
    "\n",
    "@dlt.append_flow(\n",
    "    target = \"orders_union_bronze\"\n",
    "    )\n",
    "\n",
    "def order_delta_append():\n",
    "    df = spark.readStream.table(\"LIVE.orders_bronze\")\n",
    "    return df\n",
    "    \n",
    "@dlt.append_flow(\n",
    "    target = \"orders_union_bronze\"\n",
    "    )\n",
    "\n",
    "def order_autoloader_append():\n",
    "    df = spark.readStream.table(\"LIVE.orders_autoloader_bronze\")\n",
    "    return df"
   ]
  },
  {
   "cell_type": "code",
   "execution_count": 0,
   "metadata": {
    "application/vnd.databricks.v1+cell": {
     "cellMetadata": {},
     "inputWidgets": {},
     "nuid": "755bfec4-a511-43e1-82bd-6fe5bfb34c62",
     "showTitle": false,
     "tableResultSettingsMap": {},
     "title": ""
    }
   },
   "outputs": [],
   "source": [
    "# Create a Materialized View for CUstomers\n",
    "\n",
    "@dlt.table(\n",
    "    table_properties={\"quality\": \"bronze\"},\n",
    "    comment = \"Customer Bronze Table\",\n",
    "    name = \"customers_bronze\"\n",
    ")\n",
    "def cust_bronze():\n",
    "    df= spark.read.table(\"dev.bronze.customers_raw\")\n",
    "    return df"
   ]
  },
  {
   "cell_type": "code",
   "execution_count": 0,
   "metadata": {
    "application/vnd.databricks.v1+cell": {
     "cellMetadata": {},
     "inputWidgets": {},
     "nuid": "d085f344-dd33-4fdd-8580-fc8b7d1c04d4",
     "showTitle": false,
     "tableResultSettingsMap": {},
     "title": ""
    }
   },
   "outputs": [],
   "source": [
    "#CREATE a view to join orders with customers\n",
    "@dlt.table(\n",
    "    comment = \"joined_view\",\n",
    "    \n",
    ")\n",
    "def joined_vw():\n",
    "    df_c= spark.read.table(\"LIVE.customers_bronze\")\n",
    "    df_o= spark.read.table(\"LIVE.orders_union_bronze\")\n",
    "    df_join = df_o.join(df_c, on=df_c.c_custkey == df_o.o_custkey, how =\"left_outer\" )\n",
    "    return df_join"
   ]
  },
  {
   "cell_type": "code",
   "execution_count": 0,
   "metadata": {
    "application/vnd.databricks.v1+cell": {
     "cellMetadata": {},
     "inputWidgets": {},
     "nuid": "3f618f47-f0e3-4800-98be-2af8dba57405",
     "showTitle": false,
     "tableResultSettingsMap": {},
     "title": ""
    }
   },
   "outputs": [],
   "source": [
    "# CREATE MV to add a new column\n",
    "# Change the name of silver table from \"joined_silver\" to \"order_silver\"\n",
    "from pyspark.sql.functions import current_timestamp,sum,count\n",
    "@dlt.table(\n",
    "    table_properties= {\"quality\": \"silver\"},\n",
    "    comment = \"Joined_table\",\n",
    "    name = \"orders_silver\"\n",
    ")\n",
    "def joined_silver():\n",
    "    df= spark.read.table(\"LIVE.joined_vw\").withColumn(\"_insert_date\", current_timestamp())\n",
    "    return df"
   ]
  },
  {
   "cell_type": "code",
   "execution_count": 0,
   "metadata": {
    "application/vnd.databricks.v1+cell": {
     "cellMetadata": {},
     "inputWidgets": {},
     "nuid": "5c058a13-52f9-4d62-b51d-402189a9b2fa",
     "showTitle": false,
     "tableResultSettingsMap": {},
     "title": ""
    }
   },
   "outputs": [],
   "source": [
    "#Aggregate based on c_mktsegment and find the count of order(c_orderkey)\n",
    "#Added a new column and modified the a column from \"sum_orders\" to \"count_orders\"\n",
    "from pyspark.sql.functions import count\n",
    "@dlt.table(\n",
    "    table_properties={\"quality\": \"gold\"},\n",
    "    comment = \"Orders aggregate table\",\n",
    "    \n",
    ")\n",
    "def orders_agg_gold():\n",
    "    df= spark.read.table(\"LIVE.orders_silver\")\n",
    "    df_final= df.groupBy(\"c_mktsegment\").agg(count(\"o_orderkey\").alias (\"count_orders\"),sum(\"o_totalprice\").alias(\"sum_totalprice\")).withColumn(\"_insert_date\", current_timestamp())\n",
    "    return df_final"
   ]
  },
  {
   "cell_type": "code",
   "execution_count": 0,
   "metadata": {
    "application/vnd.databricks.v1+cell": {
     "cellMetadata": {},
     "inputWidgets": {},
     "nuid": "a11165d1-5f5d-4328-82e1-c826482d1382",
     "showTitle": false,
     "tableResultSettingsMap": {},
     "title": ""
    }
   },
   "outputs": [],
   "source": []
  }
 ],
 "metadata": {
  "application/vnd.databricks.v1+notebook": {
   "computePreferences": null,
   "dashboards": [],
   "environmentMetadata": {
    "base_environment": "",
    "environment_version": "2"
   },
   "language": "python",
   "notebookMetadata": {
    "pythonIndentUnit": 4
   },
   "notebookName": "00_DLT_Introduction_backup_part_III",
   "widgets": {}
  },
  "language_info": {
   "name": "python"
  }
 },
 "nbformat": 4,
 "nbformat_minor": 0
}
